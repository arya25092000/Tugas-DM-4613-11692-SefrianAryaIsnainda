{
  "nbformat": 4,
  "nbformat_minor": 0,
  "metadata": {
    "colab": {
      "name": "contoh Decision Tree .ipynb",
      "provenance": [],
      "collapsed_sections": []
    },
    "kernelspec": {
      "name": "python3",
      "display_name": "Python 3"
    },
    "language_info": {
      "name": "python"
    }
  },
  "cells": [
    {
      "cell_type": "code",
      "execution_count": null,
      "metadata": {
        "id": "_Rnpvvy8nSqk"
      },
      "outputs": [],
      "source": [
        "import numpy as np\n",
        "import pandas as pd\n",
        "from sklearn import tree"
      ]
    },
    {
      "cell_type": "code",
      "source": [
        "DSFishChurn = pd.read_csv('/content/Fish.csv', delimiter=',', header=0)"
      ],
      "metadata": {
        "id": "cVDNtW7FzLdF"
      },
      "execution_count": null,
      "outputs": []
    },
    {
      "cell_type": "code",
      "source": [
        "DSFishChurn.head()"
      ],
      "metadata": {
        "id": "0dgFP2vK4YGM"
      },
      "execution_count": null,
      "outputs": []
    },
    {
      "cell_type": "code",
      "source": [
        "DSFishChurn[\"Species\"] = pd.factorize(DSFishChurn.Species)[0]"
      ],
      "metadata": {
        "id": "QfrOThjIizDM"
      },
      "execution_count": null,
      "outputs": []
    },
    {
      "cell_type": "code",
      "source": [
        "DSFishChurn.head()"
      ],
      "metadata": {
        "id": "oDG2-3JnjJO8"
      },
      "execution_count": null,
      "outputs": []
    },
    {
      "cell_type": "code",
      "source": [
        "print(DSFishChurn)"
      ],
      "metadata": {
        "id": "XQ6m5TEwjNex"
      },
      "execution_count": null,
      "outputs": []
    },
    {
      "cell_type": "code",
      "source": [
        "DSFishChurn = DSFishChurn.drop(labels=\"FishID\", axis=1)"
      ],
      "metadata": {
        "id": "Q1UYaV_QlLq3"
      },
      "execution_count": null,
      "outputs": []
    },
    {
      "cell_type": "code",
      "source": [
        "print(DSFishChurn)"
      ],
      "metadata": {
        "id": "JFiEMtPxlLd9"
      },
      "execution_count": null,
      "outputs": []
    },
    {
      "cell_type": "code",
      "source": [
        "DSFishChurn = DSFishChurn.to_numpy()"
      ],
      "metadata": {
        "id": "G292zKk7lLQ-"
      },
      "execution_count": null,
      "outputs": []
    },
    {
      "cell_type": "code",
      "source": [
        "print(DSFishChurn)"
      ],
      "metadata": {
        "id": "YeaS5QE4lK9U"
      },
      "execution_count": null,
      "outputs": []
    },
    {
      "cell_type": "code",
      "source": [
        "dataTraining = np.concatenate((DSFishChurn[0:40, :], DSFishChurn[50:90, :]),\n",
        "                              axis=0)\n",
        "dataTesting = np.concatenate((DSFishChurn[40:50, :], DSFishChurn[90:100, :]),\n",
        "                              axis=0)"
      ],
      "metadata": {
        "id": "xqCdkTdklUwW"
      },
      "execution_count": null,
      "outputs": []
    },
    {
      "cell_type": "code",
      "source": [
        "print(dataTesting)\n",
        "len(dataTesting)"
      ],
      "metadata": {
        "id": "eHD8iRgblUqI"
      },
      "execution_count": null,
      "outputs": []
    },
    {
      "cell_type": "code",
      "source": [
        "inputTraining = dataTraining[:, 0:4]\n",
        "inputTesting = dataTesting[:, 0:4]\n",
        "labelTraining = dataTraining[:,3]\n",
        "labelTesting = dataTesting[:,3]"
      ],
      "metadata": {
        "id": "9-BIs40VlUXp"
      },
      "execution_count": null,
      "outputs": []
    },
    {
      "cell_type": "code",
      "source": [
        "model = tree.DecisionTreeClassifier()"
      ],
      "metadata": {
        "id": "fkEXTb43lXtJ"
      },
      "execution_count": null,
      "outputs": []
    },
    {
      "cell_type": "code",
      "source": [
        "model = model.fit(inputTraining, labelTraining)"
      ],
      "metadata": {
        "id": "KL7uwksnlXlh"
      },
      "execution_count": null,
      "outputs": []
    },
    {
      "cell_type": "code",
      "source": [
        "hasilPrediksi = model.predict(inputTesting)\n",
        "print(\"Label sebenarnya : \", labelTesting)\n",
        "print(\"Hasil Prediksi : \", hasilPrediksi)"
      ],
      "metadata": {
        "id": "UZxGOiIUldIJ"
      },
      "execution_count": null,
      "outputs": []
    },
    {
      "cell_type": "code",
      "source": [
        "prediksiBenar = (hasilPrediksi == labelTesting).sum()\n",
        "prediksiSalah = (hasilPrediksi != labelTesting).sum()\n",
        "print(\"Prediksi benar : \", prediksiBenar, \"data\")\n",
        "print(\"Prediksi salah : \", prediksiSalah, \"data\")\n",
        "print(\"Akurasi : \", prediksiBenar/(prediksiBenar+prediksiSalah)\n",
        "      *100, \"%\")"
      ],
      "metadata": {
        "id": "ldnJ_DDxldB-"
      },
      "execution_count": null,
      "outputs": []
    }
  ]
}